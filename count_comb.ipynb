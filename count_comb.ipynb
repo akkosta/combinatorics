{
  "nbformat": 4,
  "nbformat_minor": 0,
  "metadata": {
    "colab": {
      "name": "count comb.ipynb",
      "version": "0.3.2",
      "provenance": []
    },
    "kernelspec": {
      "name": "python3",
      "display_name": "Python 3"
    }
  },
  "cells": [
    {
      "cell_type": "markdown",
      "metadata": {
        "id": "gA0OdFv3NF_U",
        "colab_type": "text"
      },
      "source": [
        "# Размещения"
      ]
    },
    {
      "cell_type": "markdown",
      "metadata": {
        "id": "MMtejiyZeT95",
        "colab_type": "text"
      },
      "source": [
        "$A^k_n = n(n-1)...(n-k+1) = \\frac{n!}{(n-k)!}$"
      ]
    },
    {
      "cell_type": "code",
      "metadata": {
        "id": "sEXQDCLNNYaI",
        "colab_type": "code",
        "colab": {}
      },
      "source": [
        "#A из n по k - количество k-размещений из n-объектов без повторений\n",
        "\n",
        "import math\n",
        "k = int(input())\n",
        "n = int(input())\n",
        "A = math.factorial(n)/math.factorial(n-k)\n",
        "print(A)"
      ],
      "execution_count": 0,
      "outputs": []
    },
    {
      "cell_type": "markdown",
      "metadata": {
        "id": "9lA_d9DTefCa",
        "colab_type": "text"
      },
      "source": [
        "$\\bar{A^k_n} = n^k$"
      ]
    },
    {
      "cell_type": "code",
      "metadata": {
        "id": "mcwc-26LP9y6",
        "colab_type": "code",
        "colab": {}
      },
      "source": [
        "#A из n по k с чертой - k-размещения с повторениями из n объектов\n",
        "\n",
        "import math\n",
        "k = int(input())\n",
        "n = int(input())\n",
        "A = math.pow(n, k) #через модуль math\n",
        "B = n ** k #или проще\n",
        "print(A, B)"
      ],
      "execution_count": 0,
      "outputs": []
    },
    {
      "cell_type": "markdown",
      "metadata": {
        "id": "Vp_ejDVFScUI",
        "colab_type": "text"
      },
      "source": [
        "# Сочетания"
      ]
    },
    {
      "cell_type": "markdown",
      "metadata": {
        "id": "JwFpg2xYcrZX",
        "colab_type": "text"
      },
      "source": [
        "$C^k_n = \\frac{A^k_n}{k!} = \\frac{n!}{k!(n-k)!}$\n",
        "\n"
      ]
    },
    {
      "cell_type": "code",
      "metadata": {
        "id": "qJRZ4Pr6Mnev",
        "colab_type": "code",
        "colab": {}
      },
      "source": [
        "#C из n по k - k-сочетания из n объектов без повторений\n",
        "\n",
        "import math\n",
        "k = int(input())\n",
        "n = int(input())\n",
        "C = math.factorial(n)/(math.factorial(k)*math.factorial(n-k))\n",
        "print(C)"
      ],
      "execution_count": 0,
      "outputs": []
    },
    {
      "cell_type": "markdown",
      "metadata": {
        "id": "hlSLk_rLa2tG",
        "colab_type": "text"
      },
      "source": [
        "$\\bar{C^k_n} = C^k_{n+k-1}$"
      ]
    },
    {
      "cell_type": "code",
      "metadata": {
        "id": "I1Hh2kB6OkDT",
        "colab_type": "code",
        "colab": {}
      },
      "source": [
        "#C из n по k с чертой - k-сочетания с повторениями из n объектов\n",
        "\n",
        "import math\n",
        "k = int(input())\n",
        "n = int(input()) + k - 1\n",
        "C = math.factorial(n)/(math.factorial(k)*math.factorial(n-k))\n",
        "print(C)"
      ],
      "execution_count": 0,
      "outputs": []
    }
  ]
}